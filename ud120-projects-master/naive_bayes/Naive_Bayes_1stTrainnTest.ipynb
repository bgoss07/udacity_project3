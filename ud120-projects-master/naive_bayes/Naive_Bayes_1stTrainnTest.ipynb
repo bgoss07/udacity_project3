{
 "cells": [
  {
   "cell_type": "code",
   "execution_count": 1,
   "id": "cb226888",
   "metadata": {},
   "outputs": [
    {
     "data": {
      "text/plain": [
       "' \\n    This is the code to accompany the Lesson 1 (Naive Bayes) mini-project. \\n\\n    Use a Naive Bayes Classifier to identify emails by their authors\\n    \\n    authors and labels:\\n    Sara has label 0\\n    Chris has label 1\\n'"
      ]
     },
     "execution_count": 1,
     "metadata": {},
     "output_type": "execute_result"
    }
   ],
   "source": [
    "#!/usr/bin/python3\n",
    "\n",
    "\"\"\" \n",
    "    This is the code to accompany the Lesson 1 (Naive Bayes) mini-project. \n",
    "\n",
    "    Use a Naive Bayes Classifier to identify emails by their authors\n",
    "    \n",
    "    authors and labels:\n",
    "    Sara has label 0\n",
    "    Chris has label 1\n",
    "\"\"\""
   ]
  },
  {
   "cell_type": "code",
   "execution_count": 2,
   "id": "e00a6a19",
   "metadata": {},
   "outputs": [],
   "source": [
    "import sys\n",
    "from time import time\n",
    "sys.path.append(\"../tools/\")\n",
    "from email_preprocess import preprocess\n",
    "from sklearn.naive_bayes import GaussianNB\n",
    "from sklearn.metrics import accuracy_score"
   ]
  },
  {
   "cell_type": "code",
   "execution_count": 3,
   "id": "6cf01b80",
   "metadata": {},
   "outputs": [
    {
     "name": "stdout",
     "output_type": "stream",
     "text": [
      "No. of Chris training emails :  7936\n",
      "No. of Sara training emails :  7884\n"
     ]
    }
   ],
   "source": [
    "### features_train and features_test are the features for the training\n",
    "### and testing datasets, respectively\n",
    "### labels_train and labels_test are the corresponding item labels\n",
    "features_train, features_test, labels_train, labels_test = preprocess()"
   ]
  },
  {
   "cell_type": "code",
   "execution_count": 8,
   "id": "5d506358",
   "metadata": {},
   "outputs": [
    {
     "name": "stdout",
     "output_type": "stream",
     "text": [
      "Training Time: 2.91 s\n",
      "Predicting Time: 0.475 s\n",
      "Accuracy: 0.9732650739476678\n"
     ]
    }
   ],
   "source": [
    "clf=GaussianNB()\n",
    "\n",
    "t0 = time()\n",
    "fit=clf.fit(features_train, labels_train)\n",
    "print(\"Training Time:\", round(time()-t0, 3), \"s\")\n",
    "\n",
    "t0 = time()\n",
    "pred=clf.predict(features_test)\n",
    "print(\"Predicting Time:\", round(time()-t0, 3), \"s\")\n",
    "\n",
    "accuracy=accuracy_score(pred, labels_test)\n",
    "print(\"Accuracy: {}\".format(accuracy))"
   ]
  },
  {
   "cell_type": "code",
   "execution_count": null,
   "id": "145367b0",
   "metadata": {},
   "outputs": [],
   "source": []
  }
 ],
 "metadata": {
  "kernelspec": {
   "display_name": "Python 3",
   "language": "python",
   "name": "python3"
  },
  "language_info": {
   "codemirror_mode": {
    "name": "ipython",
    "version": 3
   },
   "file_extension": ".py",
   "mimetype": "text/x-python",
   "name": "python",
   "nbconvert_exporter": "python",
   "pygments_lexer": "ipython3",
   "version": "3.8.8"
  }
 },
 "nbformat": 4,
 "nbformat_minor": 5
}
