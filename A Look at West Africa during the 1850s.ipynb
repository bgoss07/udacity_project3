{
 "cells": [
  {
   "cell_type": "markdown",
   "metadata": {},
   "source": [
    "# Project: A Look at West African GDP Forty years since Independence\n",
    "By: Bethany Goss\n",
    "\n",
    "## Table of Contents\n",
    "<ul>\n",
    "<li><a href=\"#intro\">Introduction</a></li>\n",
    "<li><a href=\"#wrangling\">Data Wrangling</a></li>\n",
    "<li><a href=\"#eda\">Exploratory Data Analysis</a></li>\n",
    "<li><a href=\"#conclusions\">Conclusions</a></li>\n",
    "</ul>"
   ]
  },
  {
   "cell_type": "markdown",
   "metadata": {},
   "source": [
    "<a id='intro'></a>\n",
    "## Introduction\n",
    "\n",
    "The dataset we are working with is labeled \"income\" under Gapminder's downloadable data section. \"Income\" is based on GDP per capita taking into account Purchasing Power based on 2011 international dollars. It covers 194 countries from the years 1799 to 2039. This dataset is compiled from a few different sources the most influential being the Maddison Project Database for their computations and also the records they held onto from the Penn World Table. Clearly, the information from 2020 onward is based on predictive modeling. Specifically, a 2% increase in GDP globally. \n",
    "\n",
    "We will be looking at the West African region from 1975 (when the last country in the region gained independence) to 2015. This discussion will center around West African trends versus global trends as well as a look at specific countries in the region to see if there are any outliers over this forty-one year period. "
   ]
  },
  {
   "cell_type": "code",
   "execution_count": 1,
   "metadata": {},
   "outputs": [],
   "source": [
    "import pandas as pd\n",
    "import numpy as np\n",
    "import matplotlib.pyplot as plt\n",
    "import re\n",
    "%matplotlib  inline "
   ]
  },
  {
   "cell_type": "markdown",
   "metadata": {},
   "source": [
    "<a id='wrangling'></a>\n",
    "## Data Wrangling\n",
    "\n",
    "### General Properties"
   ]
  },
  {
   "cell_type": "code",
   "execution_count": 2,
   "metadata": {},
   "outputs": [],
   "source": [
    "df=pd.read_csv(\"income_per_person_gdppercapita_ppp_inflation_adjusted.csv\")"
   ]
  },
  {
   "cell_type": "code",
   "execution_count": 3,
   "metadata": {},
   "outputs": [],
   "source": [
    "#first I will create a dataframe with just the West African region, then specify by year. \n",
    "westAfrica=[\"Benin\", \"Burkina Faso\", \"Cape Verde\", \"Cote d'Ivoire\", \"Gambia\", \"Ghana\", \"Guinea\", \"Guinea-Bissau\", \"Liberia\", \"Mali\", \"Mauritania\", \"Niger\", \"Nigeria\", \"Senegal\", \"Sierra Leone\", \"Togo\"]\n",
    "df_westAfrica = df[df[\"country\"].isin(westAfrica)]\n",
    "df_westAfrica=df_westAfrica.loc[:, \"1975\":\"2015\"]\n",
    "#df_westAfrica.info()"
   ]
  },
  {
   "cell_type": "code",
   "execution_count": 4,
   "metadata": {},
   "outputs": [],
   "source": [
    "#this is the dataframe for the specified years, globally\n",
    "df_global=df.loc[:, \"1975\":\"2015\"]\n",
    "#df_global.info()"
   ]
  },
  {
   "cell_type": "markdown",
   "metadata": {},
   "source": [
    "### Data Cleaning\n",
    "Right now I have two sets of data, one is the global set, and the other is the West African set. I'll be adding the country names back to the sets so that, when the data is mapped, it becomes more clear what we are looking at. \n",
    "Also, the numbers in the dataframe are objects ending in the letter \"k\". I will be replacing the \"k\" with \"000\" and turn the datatype to \"float64\". "
   ]
  },
  {
   "cell_type": "code",
   "execution_count": 23,
   "metadata": {},
   "outputs": [
    {
     "name": "stdout",
     "output_type": "stream",
     "text": [
      "<class 'pandas.core.frame.DataFrame'>\n",
      "Index: 16 entries, Benin to Togo\n",
      "Data columns (total 41 columns):\n",
      " #   Column  Non-Null Count  Dtype  \n",
      "---  ------  --------------  -----  \n",
      " 0   1975    16 non-null     float64\n",
      " 1   1976    16 non-null     float64\n",
      " 2   1977    16 non-null     float64\n",
      " 3   1978    16 non-null     float64\n",
      " 4   1979    16 non-null     float64\n",
      " 5   1980    16 non-null     float64\n",
      " 6   1981    16 non-null     float64\n",
      " 7   1982    16 non-null     float64\n",
      " 8   1983    16 non-null     float64\n",
      " 9   1984    16 non-null     float64\n",
      " 10  1985    16 non-null     float64\n",
      " 11  1986    16 non-null     float64\n",
      " 12  1987    16 non-null     float64\n",
      " 13  1988    16 non-null     float64\n",
      " 14  1989    16 non-null     float64\n",
      " 15  1990    16 non-null     float64\n",
      " 16  1991    16 non-null     float64\n",
      " 17  1992    16 non-null     float64\n",
      " 18  1993    16 non-null     float64\n",
      " 19  1994    16 non-null     float64\n",
      " 20  1995    16 non-null     float64\n",
      " 21  1996    16 non-null     float64\n",
      " 22  1997    16 non-null     float64\n",
      " 23  1998    16 non-null     float64\n",
      " 24  1999    16 non-null     float64\n",
      " 25  2000    16 non-null     float64\n",
      " 26  2001    16 non-null     float64\n",
      " 27  2002    16 non-null     float64\n",
      " 28  2003    16 non-null     float64\n",
      " 29  2004    16 non-null     float64\n",
      " 30  2005    16 non-null     float64\n",
      " 31  2006    16 non-null     float64\n",
      " 32  2007    16 non-null     float64\n",
      " 33  2008    16 non-null     float64\n",
      " 34  2009    16 non-null     float64\n",
      " 35  2010    16 non-null     float64\n",
      " 36  2011    16 non-null     float64\n",
      " 37  2012    16 non-null     float64\n",
      " 38  2013    16 non-null     float64\n",
      " 39  2014    16 non-null     float64\n",
      " 40  2015    16 non-null     float64\n",
      "dtypes: float64(41)\n",
      "memory usage: 5.2+ KB\n"
     ]
    }
   ],
   "source": [
    "#I'm renaming the indexes of the rows to show more clearly on the inline plots\n",
    "df_westAfrica.rename(index={13:\"Benin\", 14:\"Bukina_Faso\", 33:\"Cape_Verde\", 39:\"Cote_d'Ivoire\", 63:\"Gambia\", 64:\"Ghana\", 65:\"Guinea\", 66:\"Guinea-Bissau\", 98:\"Liberia\", 114:\"Mali\", 120:\"Mauritania\", 125:\"Niger\", 126:\"Nigeria\", 151:\"Senegal\", 154:\"Sierra_Leone\", 169:\"Togo\"}, inplace=True)\n",
    "#df_westAfrica.info()"
   ]
  },
  {
   "cell_type": "code",
   "execution_count": 6,
   "metadata": {},
   "outputs": [],
   "source": [
    "#I am replacing the \"k\"s and changing the datatype, then checking my work.\n",
    "df_westAfrica.replace(\"\\.\", \"\", inplace=True, regex=True)\n",
    "df_westAfrica.replace(\"k$\", \"000\", inplace=True, regex=True)\n",
    "df_westAfrica=df_westAfrica.astype('float64')\n",
    "#df_westAfrica.info()"
   ]
  },
  {
   "cell_type": "code",
   "execution_count": 7,
   "metadata": {},
   "outputs": [],
   "source": [
    "#repeating what I did with the West African database\n",
    "df_global.rename(index=df[\"country\"], inplace=True)"
   ]
  },
  {
   "cell_type": "code",
   "execution_count": 8,
   "metadata": {},
   "outputs": [],
   "source": [
    "df_global.replace(\"\\.\", \"\", inplace=True, regex=True)\n",
    "df_global.replace(\"k$\", \"000\", inplace=True, regex=True)\n",
    "df_global=df_global.astype('float64')\n",
    "#df_global.info()"
   ]
  },
  {
   "cell_type": "markdown",
   "metadata": {},
   "source": [
    "<a id='eda'></a>\n",
    "## Exploratory Data Analysis\n",
    "\n",
    "Research Question 1: How does West Africa compare to global trends? "
   ]
  },
  {
   "cell_type": "code",
   "execution_count": 9,
   "metadata": {},
   "outputs": [
    {
     "data": {
      "text/html": [
       "<div>\n",
       "<style scoped>\n",
       "    .dataframe tbody tr th:only-of-type {\n",
       "        vertical-align: middle;\n",
       "    }\n",
       "\n",
       "    .dataframe tbody tr th {\n",
       "        vertical-align: top;\n",
       "    }\n",
       "\n",
       "    .dataframe thead th {\n",
       "        text-align: right;\n",
       "    }\n",
       "</style>\n",
       "<table border=\"1\" class=\"dataframe\">\n",
       "  <thead>\n",
       "    <tr style=\"text-align: right;\">\n",
       "      <th></th>\n",
       "      <th>1975</th>\n",
       "      <th>1976</th>\n",
       "      <th>1977</th>\n",
       "      <th>1978</th>\n",
       "      <th>1979</th>\n",
       "      <th>1980</th>\n",
       "      <th>1981</th>\n",
       "      <th>1982</th>\n",
       "      <th>1983</th>\n",
       "      <th>1984</th>\n",
       "      <th>...</th>\n",
       "      <th>2006</th>\n",
       "      <th>2007</th>\n",
       "      <th>2008</th>\n",
       "      <th>2009</th>\n",
       "      <th>2010</th>\n",
       "      <th>2011</th>\n",
       "      <th>2012</th>\n",
       "      <th>2013</th>\n",
       "      <th>2014</th>\n",
       "      <th>2015</th>\n",
       "    </tr>\n",
       "  </thead>\n",
       "  <tbody>\n",
       "    <tr>\n",
       "      <th>count</th>\n",
       "      <td>195.000000</td>\n",
       "      <td>195.000000</td>\n",
       "      <td>195.000000</td>\n",
       "      <td>195.000000</td>\n",
       "      <td>195.000000</td>\n",
       "      <td>195.000000</td>\n",
       "      <td>195.000000</td>\n",
       "      <td>195.000000</td>\n",
       "      <td>195.000000</td>\n",
       "      <td>195.000000</td>\n",
       "      <td>...</td>\n",
       "      <td>195.000000</td>\n",
       "      <td>195.000000</td>\n",
       "      <td>195.000000</td>\n",
       "      <td>195.000000</td>\n",
       "      <td>195.000000</td>\n",
       "      <td>195.000000</td>\n",
       "      <td>195.000000</td>\n",
       "      <td>195.000000</td>\n",
       "      <td>195.000000</td>\n",
       "      <td>195.000000</td>\n",
       "    </tr>\n",
       "    <tr>\n",
       "      <th>mean</th>\n",
       "      <td>60992.605128</td>\n",
       "      <td>67178.266667</td>\n",
       "      <td>69039.764103</td>\n",
       "      <td>72531.517949</td>\n",
       "      <td>73674.261538</td>\n",
       "      <td>71020.000000</td>\n",
       "      <td>76318.328205</td>\n",
       "      <td>74822.215385</td>\n",
       "      <td>73861.087179</td>\n",
       "      <td>78497.625641</td>\n",
       "      <td>...</td>\n",
       "      <td>142502.717949</td>\n",
       "      <td>133667.276923</td>\n",
       "      <td>135126.379487</td>\n",
       "      <td>132285.471795</td>\n",
       "      <td>126518.348718</td>\n",
       "      <td>139115.846154</td>\n",
       "      <td>142643.738462</td>\n",
       "      <td>144276.723077</td>\n",
       "      <td>144685.164103</td>\n",
       "      <td>150778.779487</td>\n",
       "    </tr>\n",
       "    <tr>\n",
       "      <th>std</th>\n",
       "      <td>106392.231562</td>\n",
       "      <td>110498.220573</td>\n",
       "      <td>111204.870473</td>\n",
       "      <td>115389.442546</td>\n",
       "      <td>120772.257792</td>\n",
       "      <td>116276.879549</td>\n",
       "      <td>118089.212356</td>\n",
       "      <td>128407.140842</td>\n",
       "      <td>120491.957814</td>\n",
       "      <td>124003.881266</td>\n",
       "      <td>...</td>\n",
       "      <td>205345.002714</td>\n",
       "      <td>199580.442690</td>\n",
       "      <td>189230.526969</td>\n",
       "      <td>186558.037841</td>\n",
       "      <td>168426.072829</td>\n",
       "      <td>185888.209960</td>\n",
       "      <td>186531.953542</td>\n",
       "      <td>183807.864413</td>\n",
       "      <td>188334.321821</td>\n",
       "      <td>190648.800941</td>\n",
       "    </tr>\n",
       "    <tr>\n",
       "      <th>min</th>\n",
       "      <td>423.000000</td>\n",
       "      <td>414.000000</td>\n",
       "      <td>407.000000</td>\n",
       "      <td>401.000000</td>\n",
       "      <td>405.000000</td>\n",
       "      <td>406.000000</td>\n",
       "      <td>389.000000</td>\n",
       "      <td>357.000000</td>\n",
       "      <td>346.000000</td>\n",
       "      <td>312.000000</td>\n",
       "      <td>...</td>\n",
       "      <td>615.000000</td>\n",
       "      <td>615.000000</td>\n",
       "      <td>615.000000</td>\n",
       "      <td>614.000000</td>\n",
       "      <td>614.000000</td>\n",
       "      <td>616.000000</td>\n",
       "      <td>619.000000</td>\n",
       "      <td>621.000000</td>\n",
       "      <td>623.000000</td>\n",
       "      <td>625.000000</td>\n",
       "    </tr>\n",
       "    <tr>\n",
       "      <th>25%</th>\n",
       "      <td>2425.000000</td>\n",
       "      <td>2360.000000</td>\n",
       "      <td>2495.000000</td>\n",
       "      <td>2395.000000</td>\n",
       "      <td>2360.000000</td>\n",
       "      <td>2420.000000</td>\n",
       "      <td>2420.000000</td>\n",
       "      <td>2445.000000</td>\n",
       "      <td>2405.000000</td>\n",
       "      <td>2425.000000</td>\n",
       "      <td>...</td>\n",
       "      <td>3175.000000</td>\n",
       "      <td>3240.000000</td>\n",
       "      <td>3310.000000</td>\n",
       "      <td>3370.000000</td>\n",
       "      <td>3450.000000</td>\n",
       "      <td>3575.000000</td>\n",
       "      <td>3660.000000</td>\n",
       "      <td>3625.000000</td>\n",
       "      <td>3535.000000</td>\n",
       "      <td>3580.000000</td>\n",
       "    </tr>\n",
       "    <tr>\n",
       "      <th>50%</th>\n",
       "      <td>5200.000000</td>\n",
       "      <td>5220.000000</td>\n",
       "      <td>5760.000000</td>\n",
       "      <td>5680.000000</td>\n",
       "      <td>5370.000000</td>\n",
       "      <td>5450.000000</td>\n",
       "      <td>5490.000000</td>\n",
       "      <td>5750.000000</td>\n",
       "      <td>6100.000000</td>\n",
       "      <td>5910.000000</td>\n",
       "      <td>...</td>\n",
       "      <td>9310.000000</td>\n",
       "      <td>9630.000000</td>\n",
       "      <td>9600.000000</td>\n",
       "      <td>9940.000000</td>\n",
       "      <td>11000.000000</td>\n",
       "      <td>18000.000000</td>\n",
       "      <td>41000.000000</td>\n",
       "      <td>82000.000000</td>\n",
       "      <td>64000.000000</td>\n",
       "      <td>105000.000000</td>\n",
       "    </tr>\n",
       "    <tr>\n",
       "      <th>75%</th>\n",
       "      <td>108500.000000</td>\n",
       "      <td>121000.000000</td>\n",
       "      <td>129500.000000</td>\n",
       "      <td>123000.000000</td>\n",
       "      <td>130000.000000</td>\n",
       "      <td>122000.000000</td>\n",
       "      <td>133000.000000</td>\n",
       "      <td>130000.000000</td>\n",
       "      <td>132000.000000</td>\n",
       "      <td>127000.000000</td>\n",
       "      <td>...</td>\n",
       "      <td>231500.000000</td>\n",
       "      <td>197000.000000</td>\n",
       "      <td>221500.000000</td>\n",
       "      <td>207500.000000</td>\n",
       "      <td>205500.000000</td>\n",
       "      <td>226000.000000</td>\n",
       "      <td>217500.000000</td>\n",
       "      <td>241500.000000</td>\n",
       "      <td>234000.000000</td>\n",
       "      <td>239500.000000</td>\n",
       "    </tr>\n",
       "    <tr>\n",
       "      <th>max</th>\n",
       "      <td>578000.000000</td>\n",
       "      <td>623000.000000</td>\n",
       "      <td>616000.000000</td>\n",
       "      <td>612000.000000</td>\n",
       "      <td>866000.000000</td>\n",
       "      <td>672000.000000</td>\n",
       "      <td>613000.000000</td>\n",
       "      <td>906000.000000</td>\n",
       "      <td>854000.000000</td>\n",
       "      <td>764000.000000</td>\n",
       "      <td>...</td>\n",
       "      <td>979000.000000</td>\n",
       "      <td>949000.000000</td>\n",
       "      <td>891000.000000</td>\n",
       "      <td>917000.000000</td>\n",
       "      <td>825000.000000</td>\n",
       "      <td>895000.000000</td>\n",
       "      <td>907000.000000</td>\n",
       "      <td>923000.000000</td>\n",
       "      <td>937000.000000</td>\n",
       "      <td>939000.000000</td>\n",
       "    </tr>\n",
       "  </tbody>\n",
       "</table>\n",
       "<p>8 rows × 41 columns</p>\n",
       "</div>"
      ],
      "text/plain": [
       "                1975           1976           1977           1978  \\\n",
       "count     195.000000     195.000000     195.000000     195.000000   \n",
       "mean    60992.605128   67178.266667   69039.764103   72531.517949   \n",
       "std    106392.231562  110498.220573  111204.870473  115389.442546   \n",
       "min       423.000000     414.000000     407.000000     401.000000   \n",
       "25%      2425.000000    2360.000000    2495.000000    2395.000000   \n",
       "50%      5200.000000    5220.000000    5760.000000    5680.000000   \n",
       "75%    108500.000000  121000.000000  129500.000000  123000.000000   \n",
       "max    578000.000000  623000.000000  616000.000000  612000.000000   \n",
       "\n",
       "                1979           1980           1981           1982  \\\n",
       "count     195.000000     195.000000     195.000000     195.000000   \n",
       "mean    73674.261538   71020.000000   76318.328205   74822.215385   \n",
       "std    120772.257792  116276.879549  118089.212356  128407.140842   \n",
       "min       405.000000     406.000000     389.000000     357.000000   \n",
       "25%      2360.000000    2420.000000    2420.000000    2445.000000   \n",
       "50%      5370.000000    5450.000000    5490.000000    5750.000000   \n",
       "75%    130000.000000  122000.000000  133000.000000  130000.000000   \n",
       "max    866000.000000  672000.000000  613000.000000  906000.000000   \n",
       "\n",
       "                1983           1984  ...           2006           2007  \\\n",
       "count     195.000000     195.000000  ...     195.000000     195.000000   \n",
       "mean    73861.087179   78497.625641  ...  142502.717949  133667.276923   \n",
       "std    120491.957814  124003.881266  ...  205345.002714  199580.442690   \n",
       "min       346.000000     312.000000  ...     615.000000     615.000000   \n",
       "25%      2405.000000    2425.000000  ...    3175.000000    3240.000000   \n",
       "50%      6100.000000    5910.000000  ...    9310.000000    9630.000000   \n",
       "75%    132000.000000  127000.000000  ...  231500.000000  197000.000000   \n",
       "max    854000.000000  764000.000000  ...  979000.000000  949000.000000   \n",
       "\n",
       "                2008           2009           2010           2011  \\\n",
       "count     195.000000     195.000000     195.000000     195.000000   \n",
       "mean   135126.379487  132285.471795  126518.348718  139115.846154   \n",
       "std    189230.526969  186558.037841  168426.072829  185888.209960   \n",
       "min       615.000000     614.000000     614.000000     616.000000   \n",
       "25%      3310.000000    3370.000000    3450.000000    3575.000000   \n",
       "50%      9600.000000    9940.000000   11000.000000   18000.000000   \n",
       "75%    221500.000000  207500.000000  205500.000000  226000.000000   \n",
       "max    891000.000000  917000.000000  825000.000000  895000.000000   \n",
       "\n",
       "                2012           2013           2014           2015  \n",
       "count     195.000000     195.000000     195.000000     195.000000  \n",
       "mean   142643.738462  144276.723077  144685.164103  150778.779487  \n",
       "std    186531.953542  183807.864413  188334.321821  190648.800941  \n",
       "min       619.000000     621.000000     623.000000     625.000000  \n",
       "25%      3660.000000    3625.000000    3535.000000    3580.000000  \n",
       "50%     41000.000000   82000.000000   64000.000000  105000.000000  \n",
       "75%    217500.000000  241500.000000  234000.000000  239500.000000  \n",
       "max    907000.000000  923000.000000  937000.000000  939000.000000  \n",
       "\n",
       "[8 rows x 41 columns]"
      ]
     },
     "execution_count": 9,
     "metadata": {},
     "output_type": "execute_result"
    }
   ],
   "source": [
    "df_global.describe()"
   ]
  },
  {
   "cell_type": "code",
   "execution_count": 10,
   "metadata": {},
   "outputs": [
    {
     "data": {
      "text/html": [
       "<div>\n",
       "<style scoped>\n",
       "    .dataframe tbody tr th:only-of-type {\n",
       "        vertical-align: middle;\n",
       "    }\n",
       "\n",
       "    .dataframe tbody tr th {\n",
       "        vertical-align: top;\n",
       "    }\n",
       "\n",
       "    .dataframe thead th {\n",
       "        text-align: right;\n",
       "    }\n",
       "</style>\n",
       "<table border=\"1\" class=\"dataframe\">\n",
       "  <thead>\n",
       "    <tr style=\"text-align: right;\">\n",
       "      <th></th>\n",
       "      <th>1975</th>\n",
       "      <th>1976</th>\n",
       "      <th>1977</th>\n",
       "      <th>1978</th>\n",
       "      <th>1979</th>\n",
       "      <th>1980</th>\n",
       "      <th>1981</th>\n",
       "      <th>1982</th>\n",
       "      <th>1983</th>\n",
       "      <th>1984</th>\n",
       "      <th>...</th>\n",
       "      <th>2006</th>\n",
       "      <th>2007</th>\n",
       "      <th>2008</th>\n",
       "      <th>2009</th>\n",
       "      <th>2010</th>\n",
       "      <th>2011</th>\n",
       "      <th>2012</th>\n",
       "      <th>2013</th>\n",
       "      <th>2014</th>\n",
       "      <th>2015</th>\n",
       "    </tr>\n",
       "  </thead>\n",
       "  <tbody>\n",
       "    <tr>\n",
       "      <th>count</th>\n",
       "      <td>16.000000</td>\n",
       "      <td>16.000000</td>\n",
       "      <td>16.000000</td>\n",
       "      <td>16.000000</td>\n",
       "      <td>16.000000</td>\n",
       "      <td>16.000000</td>\n",
       "      <td>16.000000</td>\n",
       "      <td>16.000000</td>\n",
       "      <td>16.000000</td>\n",
       "      <td>16.000000</td>\n",
       "      <td>...</td>\n",
       "      <td>16.000000</td>\n",
       "      <td>16.0000</td>\n",
       "      <td>16.000000</td>\n",
       "      <td>16.000000</td>\n",
       "      <td>16.000000</td>\n",
       "      <td>16.000000</td>\n",
       "      <td>16.00000</td>\n",
       "      <td>16.000000</td>\n",
       "      <td>16.00000</td>\n",
       "      <td>16.000000</td>\n",
       "    </tr>\n",
       "    <tr>\n",
       "      <th>mean</th>\n",
       "      <td>1906.437500</td>\n",
       "      <td>1889.062500</td>\n",
       "      <td>1908.812500</td>\n",
       "      <td>1950.062500</td>\n",
       "      <td>1905.937500</td>\n",
       "      <td>1878.062500</td>\n",
       "      <td>1844.187500</td>\n",
       "      <td>1763.687500</td>\n",
       "      <td>1713.250000</td>\n",
       "      <td>1746.437500</td>\n",
       "      <td>...</td>\n",
       "      <td>2205.125000</td>\n",
       "      <td>2261.5625</td>\n",
       "      <td>2267.437500</td>\n",
       "      <td>2317.000000</td>\n",
       "      <td>2358.687500</td>\n",
       "      <td>2423.125000</td>\n",
       "      <td>2496.25000</td>\n",
       "      <td>2541.875000</td>\n",
       "      <td>2543.31250</td>\n",
       "      <td>2578.250000</td>\n",
       "    </tr>\n",
       "    <tr>\n",
       "      <th>std</th>\n",
       "      <td>1092.783173</td>\n",
       "      <td>1098.192786</td>\n",
       "      <td>1073.794469</td>\n",
       "      <td>1075.591029</td>\n",
       "      <td>1116.714256</td>\n",
       "      <td>1080.871282</td>\n",
       "      <td>1030.345846</td>\n",
       "      <td>957.113836</td>\n",
       "      <td>879.259347</td>\n",
       "      <td>906.500301</td>\n",
       "      <td>...</td>\n",
       "      <td>1378.986675</td>\n",
       "      <td>1440.8212</td>\n",
       "      <td>1435.202098</td>\n",
       "      <td>1462.179196</td>\n",
       "      <td>1507.689036</td>\n",
       "      <td>1516.573852</td>\n",
       "      <td>1533.54437</td>\n",
       "      <td>1557.306301</td>\n",
       "      <td>1568.69571</td>\n",
       "      <td>1566.468959</td>\n",
       "    </tr>\n",
       "    <tr>\n",
       "      <th>min</th>\n",
       "      <td>683.000000</td>\n",
       "      <td>715.000000</td>\n",
       "      <td>781.000000</td>\n",
       "      <td>771.000000</td>\n",
       "      <td>765.000000</td>\n",
       "      <td>779.000000</td>\n",
       "      <td>777.000000</td>\n",
       "      <td>749.000000</td>\n",
       "      <td>742.000000</td>\n",
       "      <td>817.000000</td>\n",
       "      <td>...</td>\n",
       "      <td>772.000000</td>\n",
       "      <td>815.0000</td>\n",
       "      <td>779.000000</td>\n",
       "      <td>812.000000</td>\n",
       "      <td>799.000000</td>\n",
       "      <td>860.000000</td>\n",
       "      <td>870.00000</td>\n",
       "      <td>900.000000</td>\n",
       "      <td>903.00000</td>\n",
       "      <td>912.000000</td>\n",
       "    </tr>\n",
       "    <tr>\n",
       "      <th>25%</th>\n",
       "      <td>1297.500000</td>\n",
       "      <td>1272.500000</td>\n",
       "      <td>1290.000000</td>\n",
       "      <td>1312.500000</td>\n",
       "      <td>1315.000000</td>\n",
       "      <td>1287.500000</td>\n",
       "      <td>1270.000000</td>\n",
       "      <td>1257.500000</td>\n",
       "      <td>1215.000000</td>\n",
       "      <td>1217.500000</td>\n",
       "      <td>...</td>\n",
       "      <td>1295.000000</td>\n",
       "      <td>1335.0000</td>\n",
       "      <td>1342.500000</td>\n",
       "      <td>1375.000000</td>\n",
       "      <td>1402.500000</td>\n",
       "      <td>1432.500000</td>\n",
       "      <td>1487.50000</td>\n",
       "      <td>1437.500000</td>\n",
       "      <td>1470.00000</td>\n",
       "      <td>1485.000000</td>\n",
       "    </tr>\n",
       "    <tr>\n",
       "      <th>50%</th>\n",
       "      <td>1500.000000</td>\n",
       "      <td>1465.000000</td>\n",
       "      <td>1495.000000</td>\n",
       "      <td>1460.000000</td>\n",
       "      <td>1430.000000</td>\n",
       "      <td>1465.000000</td>\n",
       "      <td>1480.000000</td>\n",
       "      <td>1395.000000</td>\n",
       "      <td>1455.000000</td>\n",
       "      <td>1505.000000</td>\n",
       "      <td>...</td>\n",
       "      <td>1720.000000</td>\n",
       "      <td>1745.0000</td>\n",
       "      <td>1730.000000</td>\n",
       "      <td>1745.000000</td>\n",
       "      <td>1770.000000</td>\n",
       "      <td>1795.000000</td>\n",
       "      <td>1805.00000</td>\n",
       "      <td>1855.000000</td>\n",
       "      <td>1890.00000</td>\n",
       "      <td>1990.000000</td>\n",
       "    </tr>\n",
       "    <tr>\n",
       "      <th>75%</th>\n",
       "      <td>2105.000000</td>\n",
       "      <td>2082.500000</td>\n",
       "      <td>2160.000000</td>\n",
       "      <td>2125.000000</td>\n",
       "      <td>2035.000000</td>\n",
       "      <td>2002.500000</td>\n",
       "      <td>1940.000000</td>\n",
       "      <td>1805.000000</td>\n",
       "      <td>1810.000000</td>\n",
       "      <td>1847.500000</td>\n",
       "      <td>...</td>\n",
       "      <td>2672.500000</td>\n",
       "      <td>2780.0000</td>\n",
       "      <td>2790.000000</td>\n",
       "      <td>2842.500000</td>\n",
       "      <td>2897.500000</td>\n",
       "      <td>2995.000000</td>\n",
       "      <td>3067.50000</td>\n",
       "      <td>3225.000000</td>\n",
       "      <td>3352.50000</td>\n",
       "      <td>3472.500000</td>\n",
       "    </tr>\n",
       "    <tr>\n",
       "      <th>max</th>\n",
       "      <td>4650.000000</td>\n",
       "      <td>4680.000000</td>\n",
       "      <td>4950.000000</td>\n",
       "      <td>4860.000000</td>\n",
       "      <td>5050.000000</td>\n",
       "      <td>5040.000000</td>\n",
       "      <td>4870.000000</td>\n",
       "      <td>4520.000000</td>\n",
       "      <td>4220.000000</td>\n",
       "      <td>4280.000000</td>\n",
       "      <td>...</td>\n",
       "      <td>5770.000000</td>\n",
       "      <td>6080.0000</td>\n",
       "      <td>5930.000000</td>\n",
       "      <td>5940.000000</td>\n",
       "      <td>6100.000000</td>\n",
       "      <td>6090.000000</td>\n",
       "      <td>6060.00000</td>\n",
       "      <td>6020.000000</td>\n",
       "      <td>6010.00000</td>\n",
       "      <td>6210.000000</td>\n",
       "    </tr>\n",
       "  </tbody>\n",
       "</table>\n",
       "<p>8 rows × 41 columns</p>\n",
       "</div>"
      ],
      "text/plain": [
       "              1975         1976         1977         1978         1979  \\\n",
       "count    16.000000    16.000000    16.000000    16.000000    16.000000   \n",
       "mean   1906.437500  1889.062500  1908.812500  1950.062500  1905.937500   \n",
       "std    1092.783173  1098.192786  1073.794469  1075.591029  1116.714256   \n",
       "min     683.000000   715.000000   781.000000   771.000000   765.000000   \n",
       "25%    1297.500000  1272.500000  1290.000000  1312.500000  1315.000000   \n",
       "50%    1500.000000  1465.000000  1495.000000  1460.000000  1430.000000   \n",
       "75%    2105.000000  2082.500000  2160.000000  2125.000000  2035.000000   \n",
       "max    4650.000000  4680.000000  4950.000000  4860.000000  5050.000000   \n",
       "\n",
       "              1980         1981         1982         1983         1984  ...  \\\n",
       "count    16.000000    16.000000    16.000000    16.000000    16.000000  ...   \n",
       "mean   1878.062500  1844.187500  1763.687500  1713.250000  1746.437500  ...   \n",
       "std    1080.871282  1030.345846   957.113836   879.259347   906.500301  ...   \n",
       "min     779.000000   777.000000   749.000000   742.000000   817.000000  ...   \n",
       "25%    1287.500000  1270.000000  1257.500000  1215.000000  1217.500000  ...   \n",
       "50%    1465.000000  1480.000000  1395.000000  1455.000000  1505.000000  ...   \n",
       "75%    2002.500000  1940.000000  1805.000000  1810.000000  1847.500000  ...   \n",
       "max    5040.000000  4870.000000  4520.000000  4220.000000  4280.000000  ...   \n",
       "\n",
       "              2006       2007         2008         2009         2010  \\\n",
       "count    16.000000    16.0000    16.000000    16.000000    16.000000   \n",
       "mean   2205.125000  2261.5625  2267.437500  2317.000000  2358.687500   \n",
       "std    1378.986675  1440.8212  1435.202098  1462.179196  1507.689036   \n",
       "min     772.000000   815.0000   779.000000   812.000000   799.000000   \n",
       "25%    1295.000000  1335.0000  1342.500000  1375.000000  1402.500000   \n",
       "50%    1720.000000  1745.0000  1730.000000  1745.000000  1770.000000   \n",
       "75%    2672.500000  2780.0000  2790.000000  2842.500000  2897.500000   \n",
       "max    5770.000000  6080.0000  5930.000000  5940.000000  6100.000000   \n",
       "\n",
       "              2011        2012         2013        2014         2015  \n",
       "count    16.000000    16.00000    16.000000    16.00000    16.000000  \n",
       "mean   2423.125000  2496.25000  2541.875000  2543.31250  2578.250000  \n",
       "std    1516.573852  1533.54437  1557.306301  1568.69571  1566.468959  \n",
       "min     860.000000   870.00000   900.000000   903.00000   912.000000  \n",
       "25%    1432.500000  1487.50000  1437.500000  1470.00000  1485.000000  \n",
       "50%    1795.000000  1805.00000  1855.000000  1890.00000  1990.000000  \n",
       "75%    2995.000000  3067.50000  3225.000000  3352.50000  3472.500000  \n",
       "max    6090.000000  6060.00000  6020.000000  6010.00000  6210.000000  \n",
       "\n",
       "[8 rows x 41 columns]"
      ]
     },
     "execution_count": 10,
     "metadata": {},
     "output_type": "execute_result"
    }
   ],
   "source": [
    "df_westAfrica.describe()"
   ]
  },
  {
   "cell_type": "code",
   "execution_count": 11,
   "metadata": {},
   "outputs": [
    {
     "data": {
      "text/plain": [
       "'The mean is 60992.60512820513, and the median is 5200.0.'"
      ]
     },
     "execution_count": 11,
     "metadata": {},
     "output_type": "execute_result"
    }
   ],
   "source": [
    "#Finding the mean and the median of three years within our set that we will compare to show GDP trends over time. \n",
    "def finding_mean_and_median(dataframe, columnName):\n",
    "        dataframe_name=str(dataframe)\n",
    "        return \"The mean is {}, and the median is {}.\".format(dataframe[columnName].mean(), dataframe[columnName].median())\n",
    "finding_mean_and_median(df_global, \"1975\")"
   ]
  },
  {
   "cell_type": "code",
   "execution_count": 12,
   "metadata": {},
   "outputs": [
    {
     "data": {
      "text/plain": [
       "'The mean is 95402.95897435897, and the median is 6460.0.'"
      ]
     },
     "execution_count": 12,
     "metadata": {},
     "output_type": "execute_result"
    }
   ],
   "source": [
    "finding_mean_and_median(df_global, \"1995\")"
   ]
  },
  {
   "cell_type": "code",
   "execution_count": 13,
   "metadata": {},
   "outputs": [
    {
     "data": {
      "text/plain": [
       "'The mean is 150778.77948717948, and the median is 105000.0. '"
      ]
     },
     "execution_count": 13,
     "metadata": {},
     "output_type": "execute_result"
    }
   ],
   "source": [
    "finding_mean_and_median(df_global, \"2015\")"
   ]
  },
  {
   "cell_type": "code",
   "execution_count": 14,
   "metadata": {},
   "outputs": [
    {
     "data": {
      "text/plain": [
       "'The mean is 1906.4375, and the median is 1500.0.'"
      ]
     },
     "execution_count": 14,
     "metadata": {},
     "output_type": "execute_result"
    }
   ],
   "source": [
    "finding_mean_and_median(df_westAfrica, \"1975\")"
   ]
  },
  {
   "cell_type": "code",
   "execution_count": 15,
   "metadata": {},
   "outputs": [
    {
     "data": {
      "text/plain": [
       "'The mean is 1749.125, and the median is 1490.0.'"
      ]
     },
     "execution_count": 15,
     "metadata": {},
     "output_type": "execute_result"
    }
   ],
   "source": [
    "finding_mean_and_median(df_westAfrica, \"1995\")"
   ]
  },
  {
   "cell_type": "code",
   "execution_count": 16,
   "metadata": {},
   "outputs": [
    {
     "data": {
      "text/plain": [
       "'The mean is 2578.25, and the median is 1990.0.'"
      ]
     },
     "execution_count": 16,
     "metadata": {},
     "output_type": "execute_result"
    }
   ],
   "source": [
    "finding_mean_and_median(df_westAfrica, \"2015\")"
   ]
  },
  {
   "cell_type": "markdown",
   "metadata": {},
   "source": [
    "When comparing the means and medians of both groups over the decade, there is a sustained positive difference between the actual average and the center of the data. This difference is larger with the global set than with the West African set, which may indicate a more normal distribution for the West African region. "
   ]
  },
  {
   "cell_type": "code",
   "execution_count": 20,
   "metadata": {},
   "outputs": [
    {
     "data": {
      "image/png": "[encoded data removed]",
      "text/plain": [
       "<Figure size 432x288 with 1 Axes>"
      ]
     },
     "metadata": {
      "needs_background": "light"
     },
     "output_type": "display_data"
    }
   ],
   "source": [
    "#comparing global GDP per capita trends over time\n",
    "df_global[\"1975\"].plot(kind=\"hist\", legend=True, alpha=0.3, title=\"# of Countries by GDP per Capita over Time- Globally\")\n",
    "df_global[\"1995\"].plot(kind=\"hist\", alpha=0.3, legend=True)\n",
    "df_global[\"2015\"].plot(kind=\"hist\", alpha=0.3, legend=True);"
   ]
  },
  {
   "cell_type": "code",
   "execution_count": 21,
   "metadata": {},
   "outputs": [
    {
     "data": {
      "image/png": "[encoded data removed]",
      "text/plain": [
       "<Figure size 432x288 with 1 Axes>"
      ]
     },
     "metadata": {
      "needs_background": "light"
     },
     "output_type": "display_data"
    }
   ],
   "source": [
    "#Comparing GDP per capita of West Afrian countries over time\n",
    "df_westAfrica[\"1975\"].plot(kind=\"hist\", alpha=0.3, legend=True, title=\"# of West African Countries by GDP per Capita over Time\")\n",
    "df_westAfrica[\"1985\"].plot(kind=\"hist\", alpha=0.3, legend=True)\n",
    "df_westAfrica[\"2015\"].plot(kind=\"hist\", alpha=0.3, legend=True);"
   ]
  },
  {
   "cell_type": "markdown",
   "metadata": {},
   "source": [
    "As you can see from the graphs, throughout these 41 year period, there was an increase in income. The global data skews to the right more than the West African set indicating that its range is greater than the West African dataframe. The West African data is still skewed to the right, but its variance isn't as great as the global dataframe. \n",
    "\n",
    "Both histograms show an increase in GDP per capita when controlling for purchasing power parity over time. This increase appears more dramatic on the global set. \n"
   ]
  },
  {
   "cell_type": "markdown",
   "metadata": {},
   "source": [
    "Research Question 2: Are there any outliers within the West African dataset that could use further exploration? "
   ]
  },
  {
   "cell_type": "code",
   "execution_count": 24,
   "metadata": {},
   "outputs": [
    {
     "data": {
      "image/png": "[encoded data removed]",
      "text/plain": [
       "<Figure size 1440x216 with 1 Axes>"
      ]
     },
     "metadata": {
      "needs_background": "light"
     },
     "output_type": "display_data"
    }
   ],
   "source": [
    "#Let's look at West Africa alone!,\n",
    "plt.rcParams[\"figure.figsize\"] = (20,3)\n",
    "df_westAfrica.plot(kind=\"bar\", legend=False, title=\"Comparison of GDP per Capita from 1975 to 2015\", colormap=\"viridis\", xlabel=\"Countries\", ylabel=\"GDP per Capita\");"
   ]
  },
  {
   "cell_type": "markdown",
   "metadata": {},
   "source": [
    "From this graph, we can see that there are a few countries that could use some more investigation. Specifically, Cape Verde, Cote d'Ivoire, and Nigeria appear to have significant economic activity per capita. All but Cape Verde show a recent increase in income in 2015. There are a few other countries showing that same positive correlation between time and GDP as well but none increasing past 4,000.00. There are a few where time and GDP does not correlate positively, such as Niger and Liberia. "
   ]
  },
  {
   "cell_type": "markdown",
   "metadata": {},
   "source": [
    "<a id='conclusions'></a>\n",
    "## Conclusions\n",
    "\n",
    "The global dataset is skewed more to the right, showing a greater range of GDP per capita than the West African set. This can also be noted in the difference between the median and the mean from 1975:2015. The global set shows a larger range of GDP from 312 to 998,000 in international dollars. Meanwhile, the West African set is closer in range: 389 to 62100. None of the countries in this set increase past 6,300 in 2011 international dollars. This shows that West Africa is a smaller set of the global data set and does not follow the same trend lines as the global set does. \n",
    "\n",
    "When looking at the countries in the West African region, we can see there tends to be a positive correlation between time and GDP per capita. There are a few countries where this is not the case, such as Niger and Liberia. There are also outliers in terms of GDP per capita where both Cape Verde and Cote d'Ivoire seem to be doing very well when compared to their counterparts. \n",
    "\n",
    "\n",
    "Limitations:\n",
    "\n",
    "The problems with the dataset are that it only looks at GPD per capita compared to time so its usefulness is limited until combined with other information. Also, some of the information is extrapolated and not necessarily an accurate reflection of realworld circumstances. \n"
   ]
  }
 ],
 "metadata": {
  "kernelspec": {
   "display_name": "Python 3",
   "language": "python",
   "name": "python3"
  },
  "language_info": {
   "codemirror_mode": {
    "name": "ipython",
    "version": 3
   },
   "file_extension": ".py",
   "mimetype": "text/x-python",
   "name": "python",
   "nbconvert_exporter": "python",
   "pygments_lexer": "ipython3",
   "version": "3.8.8"
  }
 },
 "nbformat": 4,
 "nbformat_minor": 2
}
